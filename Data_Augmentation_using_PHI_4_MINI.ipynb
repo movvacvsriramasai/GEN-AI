{
  "nbformat": 4,
  "nbformat_minor": 0,
  "metadata": {
    "colab": {
      "provenance": []
    },
    "kernelspec": {
      "name": "python3",
      "display_name": "Python 3"
    },
    "language_info": {
      "name": "python"
    }
  },
  "cells": [
    {
      "cell_type": "markdown",
      "source": [
        "# Data Augmentation using PHI 4 MINI"
      ],
      "metadata": {
        "id": "YOiMyprqlN8i"
      }
    },
    {
      "cell_type": "markdown",
      "source": [
        "This repository demonstrates how to use\n",
        "\n",
        "*   Large Language Models (LLMs), specifically Microsoft Phi 4 Mini, to perform data augmentation on a structured dataset. The goal is to generate additional realistic records for an Employee Salary Dataset to enhance the training data for a salary prediction model.\n",
        "*   Data augmentation is a fundamental technique in machine learning used to expand and diversify datasets by generating synthetic data. This can improve model robustness, generalization, and performance. LLMs excel at this task because they can understand context, mimic writing styles, and generate plausible outputs based on prompts.\n",
        "\n"
      ],
      "metadata": {
        "id": "nk8MMhj0ldz4"
      }
    },
    {
      "cell_type": "code",
      "source": [
        "!pip install transformers pandas"
      ],
      "metadata": {
        "id": "vDzJ4DejmPYB"
      },
      "execution_count": null,
      "outputs": []
    },
    {
      "cell_type": "code",
      "source": [
        "# Import necessary libraries\n",
        "from transformers import pipeline\n",
        "import pandas as pd\n",
        "from io import StringIO"
      ],
      "metadata": {
        "id": "M1AJqLINlHEQ"
      },
      "execution_count": null,
      "outputs": []
    },
    {
      "cell_type": "code",
      "source": [
        "# Load a Pretrained LLM (Microsoft Phi 4 Mini instruct)\n",
        "generator = pipeline(\"text-generation\", model=\"microsoft/Phi-4-mini-instruct\")"
      ],
      "metadata": {
        "id": "jykSk0hPktEi"
      },
      "execution_count": null,
      "outputs": []
    },
    {
      "cell_type": "code",
      "source": [
        "# Define a Structured Prompt for Data Generation\n",
        "prompt = \"\"\"\n",
        "Generate a structured table in CSV format with columns:\n",
        "Employee ID, Name, Age, Department, Salary ($), Experience (Years).\n",
        "\n",
        "Example:\n",
        "1, John Doe, 28, Engineering, 75000, 3\n",
        "2, Jane Smith, 32, Marketing, 85000, 5\n",
        "3, Alice Brown, 45, HR, 95000, 10\n",
        "4, Robert White, 38, Engineering, 90000, 7\n",
        "5, Emily Davis, 29, Finance, 72000, 4\n",
        "6, Michael Johnson, 50, Sales, 110000, 20\n",
        "7, Sarah Wilson, 31, HR, 78000, 6\n",
        "8, David Lee, 42, Marketing, 88000, 12\n",
        "9, Jennifer Moore, 27, Engineering, 71000, 2\n",
        "10, Kevin Clark, 35, Finance, 93000, 8\n",
        "11, Jessica Taylor, 30, Sales, 79000, 5\n",
        "12, William Martin, 37, HR, 87000, 9\n",
        "13, Olivia Adams, 40, Engineering, 99000, 14\n",
        "14, Daniel Harris, 26, Finance, 70000, 2\n",
        "15, Sophia Anderson, 33, Marketing, 85000, 7\n",
        "16, Matthew Thomas, 29, Sales, 73000, 3\n",
        "17, Laura Jackson, 36, HR, 89000, 10\n",
        "18, Anthony Rodriguez, 41, Engineering, 105000, 15\n",
        "19, Lisa Scott, 39, Marketing, 92000, 11\n",
        "20, Andrew Hall, 34, Finance, 94000, 9\n",
        "\"\"\""
      ],
      "metadata": {
        "id": "DdquSBxCkwv7"
      },
      "execution_count": null,
      "outputs": []
    },
    {
      "cell_type": "code",
      "source": [
        "# Generate Synthetic Data using Microsoft Phi 4 Mini\n",
        "generated_data = generator(prompt, max_length=5000, num_return_sequences=1)\n"
      ],
      "metadata": {
        "id": "jkkg2KajkzM1"
      },
      "execution_count": null,
      "outputs": []
    },
    {
      "cell_type": "code",
      "source": [
        "# Parse the Generated Text into a DataFrame\n",
        "generated_text = generated_data[0]['generated_text']\n",
        "generated_text = generated_text.replace(prompt, \"\").strip()\n",
        "data = pd.read_csv(StringIO(generated_text), names=[\"Employee ID\", \"Name\", \"Age\", \"Department\", \"Salary\", \"Experience\"])"
      ],
      "metadata": {
        "id": "aKOXKGX4kzb2"
      },
      "execution_count": null,
      "outputs": []
    },
    {
      "cell_type": "code",
      "source": [
        "# Print the Generated Data\n",
        "print(data)"
      ],
      "metadata": {
        "id": "sm9JUwTWk7fw"
      },
      "execution_count": null,
      "outputs": []
    }
  ]
}