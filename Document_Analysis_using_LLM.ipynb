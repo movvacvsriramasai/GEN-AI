{
  "nbformat": 4,
  "nbformat_minor": 0,
  "metadata": {
    "colab": {
      "provenance": []
    },
    "kernelspec": {
      "name": "python3",
      "display_name": "Python 3"
    },
    "language_info": {
      "name": "python"
    }
  },
  "cells": [
    {
      "cell_type": "markdown",
      "source": [
        "# Document Analysis using LLM\n"
      ],
      "metadata": {
        "id": "X5MWGtIEjNq9"
      }
    },
    {
      "cell_type": "markdown",
      "source": [
        "Step 1: Extract Text from the PDF"
      ],
      "metadata": {
        "id": "L8he44n6jo8A"
      }
    },
    {
      "cell_type": "code",
      "source": [
        "import pdfplumber\n",
        "\n",
        "pdf_path = \"/content/google_terms_of_service_en_in.pdf\"\n",
        "\n",
        "output_text_file = \"extracted_text.txt\"\n",
        "\n",
        "with pdfplumber.open(pdf_path) as pdf:\n",
        "    extracted_text = \"\"\n",
        "    for page in pdf.pages:\n",
        "        extracted_text += page.extract_text()\n",
        "\n",
        "with open(output_text_file, \"w\") as text_file:\n",
        "    text_file.write(extracted_text)\n",
        "\n",
        "print(f\"Text extracted and saved to {output_text_file}\")"
      ],
      "metadata": {
        "id": "YOe4FIfBja_I"
      },
      "execution_count": null,
      "outputs": []
    },
    {
      "cell_type": "markdown",
      "source": [
        "Step 2: Preview the Extracted Text"
      ],
      "metadata": {
        "id": "DIEjb_JPjwQa"
      }
    },
    {
      "cell_type": "code",
      "source": [
        "# reading pdf content\n",
        "with open(\"/content/extracted_text.txt\", \"r\") as file:\n",
        "    document_text = file.read()\n",
        "\n",
        "# preview the document content\n",
        "print(document_text[:500])  # preview the first 500 characters"
      ],
      "metadata": {
        "id": "WkOEDynDjw20"
      },
      "execution_count": null,
      "outputs": []
    },
    {
      "cell_type": "markdown",
      "source": [
        "Step 3: Summarize the Document"
      ],
      "metadata": {
        "id": "hGsFnCxwj2u_"
      }
    },
    {
      "cell_type": "code",
      "source": [
        "from transformers import pipeline\n",
        "\n",
        "# load the summarization pipeline\n",
        "summarizer = pipeline(\"summarization\", model=\"t5-small\")\n",
        "\n",
        "# summarize the document text (you can summarize parts if the document is too large)\n",
        "summary = summarizer(document_text[:1000], max_length=150, min_length=30, do_sample=False)\n",
        "print(\"Summary:\", summary[0]['summary_text'])"
      ],
      "metadata": {
        "id": "T1Rh3G1rj3ch"
      },
      "execution_count": null,
      "outputs": []
    },
    {
      "cell_type": "markdown",
      "source": [
        "Step 4: Split the Document into Sentences and Passages"
      ],
      "metadata": {
        "id": "fHHVe4gNj8RH"
      }
    },
    {
      "cell_type": "code",
      "source": [
        "import nltk\n",
        "nltk.download('punkt')\n",
        "from nltk.tokenize import sent_tokenize\n",
        "\n",
        "# split text into sentences\n",
        "sentences = sent_tokenize(document_text)\n",
        "\n",
        "# combine sentences into passages\n",
        "passages = []\n",
        "current_passage = \"\"\n",
        "for sentence in sentences:\n",
        "    if len(current_passage.split()) + len(sentence.split()) < 200:  # adjust the word limit as needed\n",
        "        current_passage += \" \" + sentence\n",
        "    else:\n",
        "        passages.append(current_passage.strip())\n",
        "        current_passage = sentence\n",
        "if current_passage:\n",
        "    passages.append(current_passage.strip())"
      ],
      "metadata": {
        "id": "OdV931V3j86T"
      },
      "execution_count": null,
      "outputs": []
    },
    {
      "cell_type": "markdown",
      "source": [
        "Step 5: Generate Questions from the Passages Using LLMs"
      ],
      "metadata": {
        "id": "roMNFz6TkGZC"
      }
    },
    {
      "cell_type": "code",
      "source": [
        "# load the question generation pipeline\n",
        "qg_pipeline = pipeline(\"text2text-generation\", model=\"valhalla/t5-base-qg-hl\")\n",
        "\n",
        "# function to generate questions using the pipeline\n",
        "def generate_questions_pipeline(passage, min_questions=3):\n",
        "    input_text = f\"generate questions: {passage}\"\n",
        "    results = qg_pipeline(input_text)\n",
        "    questions = results[0]['generated_text'].split('<sep>')\n",
        "\n",
        "    # ensure we have at least 3 questions\n",
        "    questions = [q.strip() for q in questions if q.strip()]\n",
        "\n",
        "    # if fewer than 3 questions, try to regenerate from smaller parts of the passage\n",
        "    if len(questions) < min_questions:\n",
        "        passage_sentences = passage.split('. ')\n",
        "        for i in range(len(passage_sentences)):\n",
        "            if len(questions) >= min_questions:\n",
        "                break\n",
        "            additional_input = ' '.join(passage_sentences[i:i+2])\n",
        "            additional_results = qg_pipeline(f\"generate questions: {additional_input}\")\n",
        "            additional_questions = additional_results[0]['generated_text'].split('<sep>')\n",
        "            questions.extend([q.strip() for q in additional_questions if q.strip()])\n",
        "\n",
        "    return questions[:min_questions]  # return only the top 3 questions\n",
        "\n",
        "# generate questions from passages\n",
        "for idx, passage in enumerate(passages):\n",
        "    questions = generate_questions_pipeline(passage)\n",
        "    print(f\"Passage {idx+1}:\\n{passage}\\n\")\n",
        "    print(\"Generated Questions:\")\n",
        "    for q in questions:\n",
        "        print(f\"- {q}\")\n",
        "    print(f\"\\n{'-'*50}\\n\")"
      ],
      "metadata": {
        "id": "AMqgwtNzkHCE"
      },
      "execution_count": null,
      "outputs": []
    },
    {
      "cell_type": "markdown",
      "source": [
        "Step 6: Answer the Generated Questions Using a QA Model"
      ],
      "metadata": {
        "id": "3fbihIotkM6J"
      }
    },
    {
      "cell_type": "code",
      "source": [
        "# load the QA pipeline\n",
        "qa_pipeline = pipeline(\"question-answering\", model=\"deepset/roberta-base-squad2\")\n",
        "\n",
        "# function to track and answer only unique questions\n",
        "def answer_unique_questions(passages, qa_pipeline):\n",
        "    answered_questions = set()  # to store unique questions\n",
        "\n",
        "    for idx, passage in enumerate(passages):\n",
        "        questions = generate_questions_pipeline(passage)\n",
        "\n",
        "        for question in questions:\n",
        "            if question not in answered_questions:  # check if the question has already been answered\n",
        "                answer = qa_pipeline({'question': question, 'context': passage})\n",
        "                print(f\"Q: {question}\")\n",
        "                print(f\"A: {answer['answer']}\\n\")\n",
        "                answered_questions.add(question)  # add the question to the set to avoid repetition\n",
        "        print(f\"{'='*50}\\n\")\n",
        "\n",
        "answer_unique_questions(passages, qa_pipeline)"
      ],
      "metadata": {
        "id": "E3hFc6BskP4M"
      },
      "execution_count": null,
      "outputs": []
    }
  ]
}