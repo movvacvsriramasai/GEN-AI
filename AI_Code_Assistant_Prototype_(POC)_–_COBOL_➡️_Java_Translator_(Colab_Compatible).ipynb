{
  "nbformat": 4,
  "nbformat_minor": 0,
  "metadata": {
    "colab": {
      "provenance": []
    },
    "kernelspec": {
      "name": "python3",
      "display_name": "Python 3"
    },
    "language_info": {
      "name": "python"
    }
  },
  "cells": [
    {
      "cell_type": "markdown",
      "source": [
        "# AI Code Assistant Prototype (POC) – COBOL ➡️ Java Translator (Colab-Compatible)"
      ],
      "metadata": {
        "id": "89K9ssl07NIL"
      }
    },
    {
      "cell_type": "markdown",
      "source": [
        "AI-Powered Legacy Code Refactoring Assistant (COBOL ➝ Java)\n",
        "Overview:\n",
        "Developed a fully functional Proof of Concept (PoC) that showcases the capabilities of Generative AI for refactoring and documenting legacy COBOL code into modern, readable, and well-documented Java code using a lightweight open-source LLM (Gemma-1B).\n",
        "\n",
        "Key Contributions:\n",
        "\n",
        "🧠 Built an end-to-end pipeline for COBOL to Java translation using Gemma-1B, ensuring code conversion along with inline documentation and JavaDoc-style comments.\n",
        "\n",
        "🚀 Designed an interactive Gradio-based UI, enabling users to input COBOL code and get clean Java output with adjustable generation parameters (temperature, top-k, top-p, token limits).\n",
        "\n",
        "🐳 Dockerized the entire project for platform-independent deployment and compatibility with cloud environments.\n",
        "\n",
        "🔄 Integrated MLOps principles for model deployment, containerization, and scalability across AWS, Azure, and GCP.\n",
        "\n",
        "✅ Implemented evaluation metrics for translation accuracy and correctness to validate model effectiveness in understanding legacy programming paradigms.\n",
        "\n",
        "Technologies Used:\n",
        "Python, Hugging Face Transformers, Gemma 1B, Gradio, Docker, MLOps, Google Colab, CUDA, LangChain, GitHub Actions (optional), Cloud Deployment Ready"
      ],
      "metadata": {
        "id": "alY-yG2C-BLP"
      }
    },
    {
      "cell_type": "markdown",
      "source": [
        "Cell 1: Install Required Libraries\n",
        "Install the necessary libraries for the project."
      ],
      "metadata": {
        "id": "CeB36BGW7SlN"
      }
    },
    {
      "cell_type": "code",
      "source": [
        "# Install Hugging Face Transformers, Accelerate, and SentencePiece\n",
        "!pip install transformers accelerate sentencepiece --quiet"
      ],
      "metadata": {
        "id": "B1CPVH157TJT"
      },
      "execution_count": null,
      "outputs": []
    },
    {
      "cell_type": "markdown",
      "source": [
        "Cell 2: Import Required Libraries\n",
        "Import the libraries needed for the project."
      ],
      "metadata": {
        "id": "6UiUXlqF7Uz5"
      }
    },
    {
      "cell_type": "code",
      "source": [
        "from transformers import AutoTokenizer, AutoModelForCausalLM, TextStreamer\n",
        "import torch\n",
        "import textwrap"
      ],
      "metadata": {
        "id": "_PU0sQws7Pec"
      },
      "execution_count": null,
      "outputs": []
    },
    {
      "cell_type": "markdown",
      "source": [
        "Cell 3: Load google/gemma-3-1b-it\n",
        "Load the pre-trained model and tokenizer."
      ],
      "metadata": {
        "id": "hz2NaOhT7aw-"
      }
    },
    {
      "cell_type": "code",
      "source": [
        "# Load tokenizer and model with FP16 optimization\n",
        "model_id = \"google/gemma-3-1b-it\"\n",
        "\n",
        "tokenizer = AutoTokenizer.from_pretrained(model_id)\n",
        "model = AutoModelForCausalLM.from_pretrained(model_id, torch_dtype=torch.float16, device_map=\"auto\")\n",
        "\n",
        "# Setup streamer for real-time generation\n",
        "streamer = TextStreamer(tokenizer, skip_prompt=True, skip_special_tokens=True)"
      ],
      "metadata": {
        "id": "c-tzNJoO7P-m"
      },
      "execution_count": null,
      "outputs": []
    },
    {
      "cell_type": "markdown",
      "source": [
        "Cell 4: Define Prompt Template for COBOL-to-Java\n",
        "Define a function to create a prompt for the model."
      ],
      "metadata": {
        "id": "GFKGP8q074Jj"
      }
    },
    {
      "cell_type": "code",
      "source": [
        "def build_prompt(cobol_code):\n",
        "    return f\"\"\"\n",
        "You are a professional code assistant. Translate the given COBOL code to Java.\n",
        "\n",
        "Requirements:\n",
        "1. Ensure syntactic and logical correctness.\n",
        "2. Add JavaDoc comments to explain code logic and methods.\n",
        "3. Add a documentation block at the top describing the program purpose.\n",
        "4. Keep variable names meaningful.\n",
        "\n",
        "COBOL Code:\n",
        "{cobol_code}\n",
        "\n",
        "Java Code with Comments and Docs:\n",
        "\"\"\""
      ],
      "metadata": {
        "id": "W0cMsPi67QCh"
      },
      "execution_count": null,
      "outputs": []
    },
    {
      "cell_type": "markdown",
      "source": [
        "Cell 5: User Inputs COBOL Code\n",
        "Provide a sample COBOL code for translation."
      ],
      "metadata": {
        "id": "3dywx35q774J"
      }
    },
    {
      "cell_type": "code",
      "source": [
        "cobol_code = \"\"\"\n",
        "       IDENTIFICATION DIVISION.\n",
        "       PROGRAM-ID. ADDNUMBERS.\n",
        "       DATA DIVISION.\n",
        "       WORKING-STORAGE SECTION.\n",
        "       01 NUM1 PIC 9(2) VALUE 10.\n",
        "       01 NUM2 PIC 9(2) VALUE 20.\n",
        "       01 RESULT PIC 9(3).\n",
        "       PROCEDURE DIVISION.\n",
        "       ADD NUM1 TO NUM2 GIVING RESULT.\n",
        "       DISPLAY RESULT.\n",
        "       STOP RUN.\n",
        "\"\"\""
      ],
      "metadata": {
        "id": "so7dq11S7QFg"
      },
      "execution_count": null,
      "outputs": []
    },
    {
      "cell_type": "markdown",
      "source": [
        "Cell 6: Generate Java Code using Gemma\n",
        "Generate Java code from the COBOL code using the model."
      ],
      "metadata": {
        "id": "ylCM8v_B7_R9"
      }
    },
    {
      "cell_type": "code",
      "source": [
        "prompt = build_prompt(cobol_code)\n",
        "\n",
        "inputs = tokenizer(prompt, return_tensors=\"pt\").to(\"cuda\")\n",
        "\n",
        "# Adjust decoding parameters\n",
        "generate_kwargs = {\n",
        "    \"temperature\": 0.7,\n",
        "    \"top_k\": 40,\n",
        "    \"top_p\": 0.95,\n",
        "    \"max_new_tokens\": 512,\n",
        "    \"streamer\": streamer\n",
        "}\n",
        "\n",
        "# Generate and decode output\n",
        "output = model.generate(**inputs, **generate_kwargs)\n",
        "generated_text = tokenizer.decode(output[0], skip_special_tokens=True)\n",
        "print(generated_text)"
      ],
      "metadata": {
        "id": "80RI8sw07QIf"
      },
      "execution_count": null,
      "outputs": []
    },
    {
      "cell_type": "markdown",
      "source": [
        "Cell 7: Save Java Code & Documentation\n",
        "Save the generated Java code and documentation to files."
      ],
      "metadata": {
        "id": "L5k20i8E8DP1"
      }
    },
    {
      "cell_type": "code",
      "source": [
        "# Save to files\n",
        "with open(\"ConvertedCode.java\", \"w\") as f:\n",
        "    f.write(generated_text)\n",
        "\n",
        "with open(\"CodeDocumentation.txt\", \"w\") as f:\n",
        "    f.write(\"This document contains the AI-translated Java code with comments.\\n\\n\")\n",
        "    f.write(generated_text)"
      ],
      "metadata": {
        "id": "2p44O3bZ7QLe"
      },
      "execution_count": null,
      "outputs": []
    },
    {
      "cell_type": "markdown",
      "source": [
        "Cell 8: Define Basic Accuracy Checks (POC Evaluation)\n",
        "Define a function to check the accuracy of the code conversion."
      ],
      "metadata": {
        "id": "3GmtpnCs8H_2"
      }
    },
    {
      "cell_type": "code",
      "source": [
        "def check_conversion_accuracy(cobol_code, java_code):\n",
        "    checks = {\n",
        "        \"contains_main\": \"public static void main\" in java_code,\n",
        "        \"has_addition\": \"+\" in java_code or \"sum\" in java_code.lower(),\n",
        "        \"has_comments\": \"/*\" in java_code or \"//\" in java_code,\n",
        "        \"mentions_variables\": all(var in java_code for var in [\"NUM1\", \"NUM2\", \"RESULT\"])\n",
        "    }\n",
        "\n",
        "    for key, passed in checks.items():\n",
        "        print(f\"{key.replace('_', ' ').title()}: {'✅' if passed else '❌'}\")\n",
        "\n",
        "    if all(checks.values()):\n",
        "        print(\"\\n🎯 POC Validation Successful: All key translation features present.\")\n",
        "    else:\n",
        "        print(\"\\n⚠️ Partial Translation Detected. Please refine the prompt or try a larger model.\")\n",
        "\n",
        "# Run accuracy check\n",
        "check_conversion_accuracy(cobol_code, generated_text)"
      ],
      "metadata": {
        "id": "AQxATxf97QOu"
      },
      "execution_count": null,
      "outputs": []
    },
    {
      "cell_type": "markdown",
      "source": [
        "Cell 9: Build a Gradio App"
      ],
      "metadata": {
        "id": "6E1Mtmcs9BNz"
      }
    },
    {
      "cell_type": "code",
      "source": [
        "!pip install gradio --quiet\n",
        "import gradio as gr\n",
        "\n",
        "# Gradio function\n",
        "def translate_cobol_to_java(cobol_code, temperature=0.7, top_k=40, top_p=0.95, max_tokens=512):\n",
        "    prompt = build_prompt(cobol_code)\n",
        "    inputs = tokenizer(prompt, return_tensors=\"pt\").to(\"cuda\")\n",
        "\n",
        "    generate_kwargs = {\n",
        "        \"temperature\": temperature,\n",
        "        \"top_k\": top_k,\n",
        "        \"top_p\": top_p,\n",
        "        \"max_new_tokens\": max_tokens,\n",
        "    }\n",
        "\n",
        "    output = model.generate(**inputs, **generate_kwargs)\n",
        "    java_code = tokenizer.decode(output[0], skip_special_tokens=True)\n",
        "\n",
        "    # Save output\n",
        "    with open(\"ConvertedCode.java\", \"w\") as f:\n",
        "        f.write(java_code)\n",
        "\n",
        "    return java_code\n",
        "\n",
        "# Gradio Interface\n",
        "gr_app = gr.Interface(\n",
        "    fn=translate_cobol_to_java,\n",
        "    inputs=[\n",
        "        gr.Textbox(lines=15, label=\"Enter COBOL Code\"),\n",
        "        gr.Slider(0.1, 1.5, value=0.7, label=\"Temperature\"),\n",
        "        gr.Slider(10, 100, step=5, value=40, label=\"Top-K\"),\n",
        "        gr.Slider(0.1, 1.0, value=0.95, label=\"Top-P\"),\n",
        "        gr.Slider(128, 1024, step=64, value=512, label=\"Max New Tokens\")\n",
        "    ],\n",
        "    outputs=gr.Textbox(lines=20, label=\"Translated Java Code\"),\n",
        "    title=\"🧠 COBOL ➡️ Java Translator (LLM-powered)\",\n",
        "    description=\"Uses Gemma 1B model to convert COBOL code into clean, documented Java code.\"\n",
        ")\n",
        "\n",
        "gr_app.launch(share=True)  # Use share=True for public URL (useful for testing before deployment)\n"
      ],
      "metadata": {
        "id": "kUV57CEG9CNA"
      },
      "execution_count": null,
      "outputs": []
    },
    {
      "cell_type": "markdown",
      "source": [
        " Cell 10: Dockerfile for Deployment"
      ],
      "metadata": {
        "id": "0W8tNgk79H3_"
      }
    },
    {
      "cell_type": "code",
      "source": [
        "# Dockerfile\n",
        "\n",
        "FROM python:3.10-slim\n",
        "\n",
        "WORKDIR /app\n",
        "\n",
        "# Install dependencies\n",
        "COPY requirements.txt .\n",
        "RUN pip install --no-cache-dir -r requirements.txt\n",
        "\n",
        "# Copy code\n",
        "COPY . .\n",
        "\n",
        "# Expose Gradio port\n",
        "EXPOSE 7860\n",
        "\n",
        "# Run the app\n",
        "CMD [\"python\", \"app.py\"]\n"
      ],
      "metadata": {
        "id": "-kb9GWJy9JYS"
      },
      "execution_count": null,
      "outputs": []
    },
    {
      "cell_type": "markdown",
      "source": [
        " Cell 11: requirements.txt"
      ],
      "metadata": {
        "id": "6Hk2mP679MLq"
      }
    },
    {
      "cell_type": "code",
      "source": [
        "torch\n",
        "transformers\n",
        "accelerate\n",
        "sentencepiece\n",
        "gradio\n"
      ],
      "metadata": {
        "id": "jSLl_ahH9Oli"
      },
      "execution_count": null,
      "outputs": []
    },
    {
      "cell_type": "markdown",
      "source": [],
      "metadata": {
        "id": "SccVAeCn9Qn5"
      }
    },
    {
      "cell_type": "markdown",
      "source": [
        "Cell 12: app.py to Start Gradio App\n",
        "Save this separately as app.py:"
      ],
      "metadata": {
        "id": "XbE8gNCd9Qpj"
      }
    },
    {
      "cell_type": "code",
      "source": [
        "from transformers import AutoTokenizer, AutoModelForCausalLM\n",
        "import torch\n",
        "import gradio as gr\n",
        "\n",
        "model_id = \"google/gemma-1.1-1b-it\"\n",
        "tokenizer = AutoTokenizer.from_pretrained(model_id)\n",
        "model = AutoModelForCausalLM.from_pretrained(model_id, torch_dtype=torch.float16, device_map=\"auto\")\n",
        "\n",
        "def build_prompt(cobol_code):\n",
        "    return f\"\"\"\n",
        "You are a professional code assistant. Translate the given COBOL code to Java with detailed JavaDoc comments.\n",
        "\n",
        "COBOL Code:\n",
        "{cobol_code}\n",
        "\n",
        "Java Code:\n",
        "\"\"\"\n",
        "\n",
        "def translate_cobol_to_java(cobol_code, temperature=0.7, top_k=40, top_p=0.95, max_tokens=512):\n",
        "    prompt = build_prompt(cobol_code)\n",
        "    inputs = tokenizer(prompt, return_tensors=\"pt\").to(\"cuda\")\n",
        "    output = model.generate(**inputs, temperature=temperature, top_k=top_k, top_p=top_p, max_new_tokens=max_tokens)\n",
        "    return tokenizer.decode(output[0], skip_special_tokens=True)\n",
        "\n",
        "app = gr.Interface(\n",
        "    fn=translate_cobol_to_java,\n",
        "    inputs=[\n",
        "        gr.Textbox(lines=15, label=\"Enter COBOL Code\"),\n",
        "        gr.Slider(0.1, 1.5, value=0.7, label=\"Temperature\"),\n",
        "        gr.Slider(10, 100, step=5, value=40, label=\"Top-K\"),\n",
        "        gr.Slider(0.1, 1.0, value=0.95, label=\"Top-P\"),\n",
        "        gr.Slider(128, 1024, step=64, value=512, label=\"Max New Tokens\")\n",
        "    ],\n",
        "    outputs=gr.Textbox(lines=20, label=\"Translated Java Code\"),\n",
        "    title=\"COBOL ➡️ Java Translator\",\n",
        "    description=\"LLM-powered refactoring and documentation from COBOL to Java.\"\n",
        ")\n",
        "\n",
        "app.launch(server_name=\"0.0.0.0\", server_port=7860)\n"
      ],
      "metadata": {
        "id": "De7SIWGh9T_S"
      },
      "execution_count": null,
      "outputs": []
    },
    {
      "cell_type": "markdown",
      "source": [
        "Cell 13: MLOps Deployment Steps\n",
        "1. Build the Docker image"
      ],
      "metadata": {
        "id": "AePN6N9J9kiR"
      }
    },
    {
      "cell_type": "code",
      "source": [
        "!docker build -t cobol2java-llm .\n"
      ],
      "metadata": {
        "id": "mJzKlIxr9lQx"
      },
      "execution_count": null,
      "outputs": []
    },
    {
      "cell_type": "markdown",
      "source": [
        "2. Run the Docker container locally"
      ],
      "metadata": {
        "id": "vP6avbvH9rE-"
      }
    },
    {
      "cell_type": "code",
      "source": [
        "docker run -p 7860:7860 cobol2java-llm\n"
      ],
      "metadata": {
        "id": "pwYyFWtG9rz2"
      },
      "execution_count": null,
      "outputs": []
    },
    {
      "cell_type": "markdown",
      "source": [
        "Cell 14: Optional Cloud Deployment Ideas\n",
        "\n",
        "Platform\tTool/Service\tNotes\n",
        "AWS\tECS / EKS / EC2 / SageMaker\tContainerize or Lambda wrap\n",
        "GCP\tCloud Run / Vertex AI\tGPU & Gradio supported\n",
        "Azure\tAzure App Service / AKS\tFor enterprise-ready MLOps\n",
        "Hugging Face Spaces\tgradio natively supported\tFree & easy for demos\n",
        "Render / Railway\tDockerfile-based\tEasy hobby deploys"
      ],
      "metadata": {
        "id": "GITrJ9rr9bSH"
      }
    }
  ]
}